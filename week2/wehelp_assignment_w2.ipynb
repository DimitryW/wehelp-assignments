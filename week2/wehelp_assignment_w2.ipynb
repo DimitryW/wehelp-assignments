{
  "nbformat": 4,
  "nbformat_minor": 0,
  "metadata": {
    "colab": {
      "name": "wehelp_assignment_w2.ipynb",
      "provenance": [],
      "collapsed_sections": []
    },
    "kernelspec": {
      "name": "python3",
      "display_name": "Python 3"
    },
    "language_info": {
      "name": "python"
    }
  },
  "cells": [
    {
      "cell_type": "markdown",
      "source": [
        "## 要求一：函式與流程控制\n",
        "完成以下函式，在函式中使用迴圈計算最小值到最大值之間，所有整數的總和。\n",
        "提醒：請勿更動題目中任何已經寫好的程式。"
      ],
      "metadata": {
        "id": "7DO15YyAfpNm"
      }
    },
    {
      "cell_type": "code",
      "execution_count": null,
      "metadata": {
        "id": "lrqwEN9YcLqo"
      },
      "outputs": [],
      "source": [
        "def calculate(min, max):\n",
        "    n = 0\n",
        "    for i in range(min, max+1):\n",
        "        n + = i\n",
        "    print(n)"
      ]
    },
    {
      "cell_type": "code",
      "source": [
        "calculate(1, 3)\n",
        "calculate(4, 8)"
      ],
      "metadata": {
        "colab": {
          "base_uri": "https://localhost:8080/"
        },
        "id": "xqRzmU71cMRM",
        "outputId": "b34c1ed5-ba08-49aa-a26b-161884bd9125"
      },
      "execution_count": null,
      "outputs": [
        {
          "output_type": "stream",
          "name": "stdout",
          "text": [
            "6\n",
            "30\n"
          ]
        }
      ]
    },
    {
      "cell_type": "markdown",
      "source": [
        "## 要求二：Python 字典與列表、JavaScript 物件與陣列\n",
        "完成以下函式，正確計算出員工的平均薪資，請考慮員工數量會變動的情況。\n",
        "提醒：請勿更動題目中任何已經寫好的程式。"
      ],
      "metadata": {
        "id": "Fpiifwqlfwok"
      }
    },
    {
      "cell_type": "code",
      "source": [
        "def avg(data):\n",
        "    s = 0\n",
        "    n = data['count']\n",
        "    for i in range(data['count']):\n",
        "        s+=data['employees'][i]['salary']\n",
        "    print(s/n)\n"
      ],
      "metadata": {
        "id": "XczMikQPciwz"
      },
      "execution_count": null,
      "outputs": []
    },
    {
      "cell_type": "code",
      "source": [
        "avg({\n",
        "\"count\":3,\n",
        "\"employees\":[\n",
        "{\n",
        "\"name\":\"John\",\n",
        "\"salary\":30000\n",
        "},\n",
        "{\n",
        "\"name\":\"Bob\",\n",
        "\"salary\":60000\n",
        "},\n",
        "{\n",
        "\"name\":\"Jenny\",\n",
        "\"salary\":50000\n",
        "}\n",
        "]\n",
        "})"
      ],
      "metadata": {
        "colab": {
          "base_uri": "https://localhost:8080/"
        },
        "id": "7NbVhCvTeyLA",
        "outputId": "186af44d-c601-4392-9846-f6bb9b652c3f"
      },
      "execution_count": null,
      "outputs": [
        {
          "output_type": "stream",
          "name": "stdout",
          "text": [
            "46666.666666666664\n"
          ]
        }
      ]
    },
    {
      "cell_type": "markdown",
      "source": [
        "## 要求三：演算法\n",
        "找出至少包含兩筆整數的列表 (Python) 或陣列 (JavaScript) 中，兩兩數字相乘後的最大值。\n",
        "提醒：請勿更動題目中任何已經寫好的程式，不可以使用排序相關的內建函式。"
      ],
      "metadata": {
        "id": "DHP8i-Wmf-dm"
      }
    },
    {
      "cell_type": "code",
      "source": [
        "def maxProduct(nums):\n",
        "    l = []\n",
        "    for i in range(len(nums)):\n",
        "        for j in range(len(nums)):\n",
        "            if i != j:\n",
        "                l.append(nums[i]*nums[j])\n",
        "    print(max(l))\n",
        "    \n"
      ],
      "metadata": {
        "id": "2wQ5CPtEezpD"
      },
      "execution_count": null,
      "outputs": []
    },
    {
      "cell_type": "code",
      "source": [
        "maxProduct([5, 20, 2, 6]) # 得到 120\n",
        "maxProduct([10, -20, 0, 3]) # 得到 30\n",
        "maxProduct([-1, 2]) # 得到 -2\n",
        "maxProduct([-1, 0, 2]) # 得到 0\n",
        "maxProduct([-1, -2, 0]) # 得到 2"
      ],
      "metadata": {
        "colab": {
          "base_uri": "https://localhost:8080/"
        },
        "id": "ftydtCjngLft",
        "outputId": "5deb0472-9209-41db-e26d-d4a9a6a7567d"
      },
      "execution_count": null,
      "outputs": [
        {
          "output_type": "stream",
          "name": "stdout",
          "text": [
            "120\n",
            "30\n",
            "-2\n",
            "0\n",
            "2\n"
          ]
        }
      ]
    },
    {
      "cell_type": "markdown",
      "source": [
        "## 要求四 ( 請閱讀英文 )：演算法\n",
        "Given an array of integers, show indices of the two numbers such that they add up to a\n",
        "specific target. You can assume that each input would have exactly one solution, and you\n",
        "can not use the same element twice."
      ],
      "metadata": {
        "id": "7KS8h83Up_Ok"
      }
    },
    {
      "cell_type": "code",
      "source": [
        "def twoSum(nums, target):\n",
        "    for i in range(len(nums)):\n",
        "        for j in range(len(nums)):\n",
        "            if i != j:\n",
        "                a = nums[i] + nums[j]\n",
        "                if a == target:\n",
        "                    return([i, j])"
      ],
      "metadata": {
        "id": "6Dr-sY03obNY"
      },
      "execution_count": null,
      "outputs": []
    },
    {
      "cell_type": "code",
      "source": [
        "result=twoSum([2, 11, 7, 15], 9)\n",
        "print(result) # show [0, 2] because nums[0]+nums[2] is 9"
      ],
      "metadata": {
        "colab": {
          "base_uri": "https://localhost:8080/"
        },
        "id": "Pis9aivzqHzN",
        "outputId": "a093f606-74bb-47f0-9a28-d453f2de731d"
      },
      "execution_count": null,
      "outputs": [
        {
          "output_type": "stream",
          "name": "stdout",
          "text": [
            "[0, 2]\n"
          ]
        }
      ]
    },
    {
      "cell_type": "markdown",
      "source": [
        "## 要求五 ( Optional )：演算法\n",
        "給定只會包含 0 或 1 兩種數字的列表 (Python) 或陣列 (JavaScript)，計算連續出現 0 的最大\n",
        "長度。\n",
        "提醒：請勿更動題目中任何已經寫好的程式。"
      ],
      "metadata": {
        "id": "47coXXhVrMRE"
      }
    },
    {
      "cell_type": "code",
      "source": [
        "def maxZeros(nums):\n",
        "    str_num = [str(i) for i in nums]\n",
        "    a = \"\".join(str_num)\n",
        "    b = a.split('1')\n",
        "    print(len(max(b)))\n",
        "    "
      ],
      "metadata": {
        "id": "mg8XCdSgq89i"
      },
      "execution_count": null,
      "outputs": []
    },
    {
      "cell_type": "code",
      "source": [
        "maxZeros([0, 1, 0, 0]) # 得到 2\n",
        "maxZeros([1, 0, 0, 0, 0, 1, 0, 1, 0, 0]) # 得到 4\n",
        "maxZeros([1, 1, 1, 1, 1]) # 得到 0\n",
        "maxZeros([0, 0, 0, 1, 1]) # 得到 3"
      ],
      "metadata": {
        "colab": {
          "base_uri": "https://localhost:8080/"
        },
        "id": "DeXupEHyrRpO",
        "outputId": "1c4715d8-5059-4c87-aeba-5c001b4ae271"
      },
      "execution_count": null,
      "outputs": [
        {
          "output_type": "stream",
          "name": "stdout",
          "text": [
            "2\n",
            "4\n",
            "0\n",
            "3\n"
          ]
        }
      ]
    }
  ]
}